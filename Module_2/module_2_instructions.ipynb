{
 "cells": [
  {
   "cell_type": "markdown",
   "id": "5618e921",
   "metadata": {},
   "source": [
    "### Exercise 1: Check the Lab Environment\n",
    "##### Task: Verify mongoimport and mongoexport, download catalog.json.\n",
    "##### NOTE: I have already downloaded the catalog.json into the dataset subfolder to ensure local execution of the project"
   ]
  },
  {
   "cell_type": "code",
   "execution_count": 4,
   "id": "caf27203",
   "metadata": {},
   "outputs": [
    {
     "name": "stdout",
     "output_type": "stream",
     "text": [
      "Found dataset/catalog.json\n",
      "catalog.json copied to container\n",
      "Container /data/db/ contents: total 540\n",
      "-rw------- 1 mongodb mongodb    50 Jul 18 06:03 WiredTiger\n",
      "-rw------- 1 mongodb mongodb    21 Jul 18 06:03 WiredTiger.lock\n",
      "-rw------- 1 mongodb mongodb  1471 Jul 18 16:01 WiredTiger.turtle\n",
      "-rw------- 1 mongodb mongodb 94208 Jul 18 16:01 WiredTiger.wt\n",
      "-rw------- 1 mongodb mongodb  4096 Jul 18 15:57 WiredTigerHS.wt\n",
      "-rw------- 1 mongodb mongodb 36864 Jul 18 15:57 _mdb_catalog.wt\n",
      "-rwxr-xr-x 1 root    root    37503 Jul 15 06:49 catalog.json\n",
      "-rw------- 1 mongodb mongodb  4096 Jul 18 06:47 collection-0-2408367730910524175.wt\n",
      "-rw------- 1 mongodb mongodb 20480 Jul 18 15:57 collection-0-2887538976524757469.wt\n",
      "-rw------- 1 mongodb mongodb 36864 Jul 18 15:58 collection-2-2887538976524757469.wt\n",
      "-rw------- 1 mongodb mongodb 12288 Jul 18 16:00 collection-4-2887538976524757469.wt\n",
      "-rw------- 1 mongodb mongodb 53248 Jul 18 15:58 collection-6-2408367730910524175.wt\n",
      "-rw------- 1 mongodb mongodb 20480 Jul 18 15:57 collection-7-2887538976524757469.wt\n",
      "drwx------ 2 mongodb mongodb  4096 Jul 18 16:02 diagnostic.data\n",
      "-rw------- 1 mongodb mongodb  4096 Jul 18 06:47 index-1-2408367730910524175.wt\n",
      "-rw------- 1 mongodb mongodb 20480 Jul 18 15:57 index-1-2887538976524757469.wt\n",
      "-rw------- 1 mongodb mongodb 36864 Jul 18 15:58 index-3-2887538976524757469.wt\n",
      "-rw------- 1 mongodb mongodb 12288 Jul 18 16:00 index-5-2887538976524757469.wt\n",
      "-rw------- 1 mongodb mongodb 12288 Jul 18 16:01 index-6-2887538976524757469.wt\n",
      "-rw------- 1 mongodb mongodb 36864 Jul 18 15:58 index-7-2408367730910524175.wt\n",
      "-rw------- 1 mongodb mongodb 20480 Jul 18 06:03 index-8-2887538976524757469.wt\n",
      "-rw------- 1 mongodb mongodb 20480 Jul 18 15:57 index-9-2887538976524757469.wt\n",
      "drwx------ 2 mongodb mongodb  4096 Jul 18 15:58 journal\n",
      "-rw------- 1 mongodb mongodb     2 Jul 18 15:57 mongod.lock\n",
      "-rw------- 1 mongodb mongodb 36864 Jul 18 16:00 sizeStorer.wt\n",
      "-rw------- 1 mongodb mongodb   114 Jul 18 06:03 storage.bson\n",
      "\n"
     ]
    }
   ],
   "source": [
    "import os\n",
    "import subprocess\n",
    "\n",
    "# Change to Module_2 directory\n",
    "os.chdir('D:/Personal/Data Science/Projects/IBM Data Engineering Capstone Project/Repository/Module_2')\n",
    "\n",
    "# Verify catalog.json exists\n",
    "dataset_path = 'dataset/catalog.json'\n",
    "if not os.path.exists(dataset_path):\n",
    "    print(f\"Error: {dataset_path} not found. Please ensure the file is in Module_2/dataset/\")\n",
    "    raise FileNotFoundError\n",
    "print(f\"Found {dataset_path}\")\n",
    "\n",
    "# Copy catalog.json to the MongoDB container\n",
    "copy_result = subprocess.run(['docker', 'cp', dataset_path, 'repository-mongodb-1:/data/db/catalog.json'], check=False, capture_output=True, text=True)\n",
    "if copy_result.returncode != 0:\n",
    "    print(f\"Copy failed: {copy_result.stderr}\")\n",
    "    raise RuntimeError(\"File copy to container failed\")\n",
    "print(\"catalog.json copied to container\")\n",
    "\n",
    "# Check container contents\n",
    "list_result = subprocess.run(['docker', 'exec', 'repository-mongodb-1', 'ls', '-l', '/data/db/'], capture_output=True, text=True)\n",
    "print(\"Container /data/db/ contents:\", list_result.stdout)\n",
    "if list_result.returncode != 0:\n",
    "    print(\"Error listing container files:\", list_result.stderr)"
   ]
  },
  {
   "cell_type": "markdown",
   "id": "da1ea353",
   "metadata": {},
   "source": [
    "### Exercise 2, Task 1: Import catalog.json\n",
    "##### Task: Import into catalog database, electronics collection."
   ]
  },
  {
   "cell_type": "code",
   "execution_count": 18,
   "id": "940c6b1f",
   "metadata": {},
   "outputs": [
    {
     "name": "stdout",
     "output_type": "stream",
     "text": [
      "Import completed.\n",
      "Import output: \n",
      "Note: Import progress details may not be captured in this output. Verify in Mongo Express at http://localhost:8081.\n"
     ]
    }
   ],
   "source": [
    "# Import data with authentication\n",
    "import_result = subprocess.run([\n",
    "    'docker', 'exec', 'repository-mongodb-1', 'mongoimport',\n",
    "    '--db', 'catalog', '--collection', 'electronics',\n",
    "    '--file', '/data/db/catalog.json',\n",
    "    '-u', 'root', '-p', 'root_100411', '--authenticationDatabase', 'admin'\n",
    "], check=False, capture_output=True, text=True)\n",
    "if import_result.returncode != 0:\n",
    "    print(f\"Import failed: {import_result.stderr}\")\n",
    "    raise RuntimeError(\"mongoimport failed\")\n",
    "print(\"Import completed.\")\n",
    "print(\"Import output:\", import_result.stdout)\n",
    "if not import_result.stdout:\n",
    "    print(\"Note: Import progress details may not be captured in this output. Verify in Mongo Express at http://localhost:8081.\")"
   ]
  },
  {
   "cell_type": "markdown",
   "id": "53588aad",
   "metadata": {},
   "source": [
    "** NOTE: ADD HERE A SCREENSHOT VERIFYING THE IMPORT "
   ]
  },
  {
   "cell_type": "markdown",
   "id": "87cce76d",
   "metadata": {},
   "source": [
    "### Task 2: List All Databases\n",
    "##### Description: List all databases in the MongoDB server."
   ]
  },
  {
   "cell_type": "code",
   "execution_count": 5,
   "id": "11346ec2",
   "metadata": {},
   "outputs": [
    {
     "name": "stdout",
     "output_type": "stream",
     "text": [
      "Databases:\n",
      "MongoDB shell version v4.4.29\n",
      "connecting to: mongodb://127.0.0.1:27017/admin?compressors=disabled&gssapiServiceName=mongodb\n",
      "Implicit session: session { \"id\" : UUID(\"0848acfa-4e62-4de8-9d91-7019c163ff0b\") }\n",
      "MongoDB server version: 4.4.29\n",
      "admin\n",
      "catalog\n",
      "config\n",
      "local\n",
      "\n"
     ]
    }
   ],
   "source": [
    "import subprocess\n",
    "\n",
    "# List all databases with authentication\n",
    "result = subprocess.run([\n",
    "    'docker', 'exec', 'repository-mongodb-1', 'mongo', 'admin', '-u', 'root', '-p', 'root_100411',\n",
    "    '--eval', 'db.getMongo().getDBNames().forEach(function(db) { print(db); })'\n",
    "], capture_output=True, text=True)\n",
    "print(\"Databases:\")\n",
    "if result.returncode == 0:\n",
    "    print(result.stdout)\n",
    "else:\n",
    "    print(f\"Error: {result.stderr}\")"
   ]
  },
  {
   "cell_type": "markdown",
   "id": "f5fc99be",
   "metadata": {},
   "source": [
    "### Task 3: List Collections in database:\"catalog\""
   ]
  },
  {
   "cell_type": "code",
   "execution_count": 23,
   "id": "2cb43377",
   "metadata": {},
   "outputs": [
    {
     "name": "stdout",
     "output_type": "stream",
     "text": [
      "Collections in catalog:\n",
      "delete_me\n",
      "electronics\n",
      "\n"
     ]
    }
   ],
   "source": [
    "# List all collections in the 'catalog' database using docker exec and mongo shell\n",
    "import subprocess\n",
    "\n",
    "result = subprocess.run([\n",
    "    'docker', 'exec', 'repository-mongodb-1', 'mongo', 'catalog',\n",
    "    '-u', 'root', '-p', 'root_100411',\n",
    "    '--authenticationDatabase', 'admin',\n",
    "    '--quiet',\n",
    "    '--eval', 'db.getCollectionNames().forEach(function(coll) { print(coll); })'\n",
    "], capture_output=True, text=True)\n",
    "\n",
    "print(\"Collections in catalog:\")\n",
    "if result.returncode == 0:\n",
    "    print(result.stdout)\n",
    "else:\n",
    "    print(f\"Error: {result.stderr}\")"
   ]
  },
  {
   "cell_type": "markdown",
   "id": "030b88cb",
   "metadata": {},
   "source": [
    "### Task 4: Create an index on the field \"type\""
   ]
  },
  {
   "cell_type": "code",
   "execution_count": 24,
   "id": "e5b7e44d",
   "metadata": {},
   "outputs": [
    {
     "name": "stdout",
     "output_type": "stream",
     "text": [
      "Index created on 'type' field.\n",
      "Indexes in electronics collection:\n",
      "[\n",
      "\t{\n",
      "\t\t\"v\" : 2,\n",
      "\t\t\"key\" : {\n",
      "\t\t\t\"_id\" : 1\n",
      "\t\t},\n",
      "\t\t\"name\" : \"_id_\"\n",
      "\t},\n",
      "\t{\n",
      "\t\t\"v\" : 2,\n",
      "\t\t\"key\" : {\n",
      "\t\t\t\"type\" : 1\n",
      "\t\t},\n",
      "\t\t\"name\" : \"type_1\"\n",
      "\t}\n",
      "]\n",
      "\n"
     ]
    }
   ],
   "source": [
    "# Create an index on the \"type\" field in the electronics collection\n",
    "import subprocess\n",
    "\n",
    "result = subprocess.run([\n",
    "    'docker', 'exec', 'repository-mongodb-1', 'mongo', 'catalog',\n",
    "    '-u', 'root', '-p', 'root_100411',\n",
    "    '--authenticationDatabase', 'admin',\n",
    "    '--quiet',\n",
    "    '--eval', 'db.electronics.createIndex({ type: 1 }); printjson(db.electronics.getIndexes());'\n",
    "], capture_output=True, text=True)\n",
    "\n",
    "if result.returncode == 0:\n",
    "    print(\"Index created on 'type' field.\")\n",
    "    print(\"Indexes in electronics collection:\")\n",
    "    print(result.stdout)\n",
    "else:\n",
    "    print(f\"Error creating index: {result.stderr}\")"
   ]
  },
  {
   "cell_type": "markdown",
   "id": "92023a90",
   "metadata": {},
   "source": [
    "### Task 5: Find count of Laptops"
   ]
  },
  {
   "cell_type": "code",
   "execution_count": 25,
   "id": "b2fb7043",
   "metadata": {},
   "outputs": [
    {
     "name": "stdout",
     "output_type": "stream",
     "text": [
      "Count of laptops:\n",
      "389\n",
      "\n"
     ]
    }
   ],
   "source": [
    "import subprocess\n",
    "\n",
    "# Count laptops in the electronics collection with authentication\n",
    "result = subprocess.run([\n",
    "    'docker', 'exec', 'repository-mongodb-1', 'mongo', 'catalog',\n",
    "    '-u', 'root', '-p', 'root_100411',\n",
    "    '--authenticationDatabase', 'admin',\n",
    "    '--quiet',\n",
    "    '--eval', 'print(db.electronics.countDocuments({ type: \"laptop\" }));'\n",
    "], capture_output=True, text=True)\n",
    "print(\"Count of laptops:\")\n",
    "if result.returncode == 0:\n",
    "    print(result.stdout)\n",
    "else:\n",
    "    print(f\"Error: {result.stderr}\")"
   ]
  },
  {
   "cell_type": "markdown",
   "id": "3ba8b966",
   "metadata": {},
   "source": [
    "### Task 6: Find Number of 6-inch Smartphones"
   ]
  },
  {
   "cell_type": "code",
   "execution_count": 27,
   "id": "e4d6e257",
   "metadata": {},
   "outputs": [
    {
     "name": "stdout",
     "output_type": "stream",
     "text": [
      "Count: 8\n",
      "Sample documents:\n",
      "[\n",
      "\t{\n",
      "\t\t\"_id\" : ObjectId(\"6879f446607b1384f7f2d84b\"),\n",
      "\t\t\"type\" : \"smart phone\",\n",
      "\t\t\"model\" : \"c3\",\n",
      "\t\t\"screen size\" : 6\n",
      "\t},\n",
      "\t{\n",
      "\t\t\"_id\" : ObjectId(\"6879f446607b1384f7f2d84c\"),\n",
      "\t\t\"type\" : \"smart phone\",\n",
      "\t\t\"model\" : \"bn20\",\n",
      "\t\t\"screen size\" : 6\n",
      "\t},\n",
      "\t{\n",
      "\t\t\"_id\" : ObjectId(\"6879f446607b1384f7f2d84e\"),\n",
      "\t\t\"type\" : \"smart phone\",\n",
      "\t\t\"model\" : \"c12\",\n",
      "\t\t\"screen size\" : 6\n",
      "\t},\n",
      "\t{\n",
      "\t\t\"_id\" : ObjectId(\"6879f446607b1384f7f2d851\"),\n",
      "\t\t\"type\" : \"smart phone\",\n",
      "\t\t\"model\" : \"xm23\",\n",
      "\t\t\"screen size\" : 6\n",
      "\t},\n",
      "\t{\n",
      "\t\t\"_id\" : ObjectId(\"6879f446607b1384f7f2d855\"),\n",
      "\t\t\"type\" : \"smart phone\",\n",
      "\t\t\"model\" : \"cz\",\n",
      "\t\t\"screen size\" : 6\n",
      "\t},\n",
      "\t{\n",
      "\t\t\"_id\" : ObjectId(\"6879f446607b1384f7f2d864\"),\n",
      "\t\t\"type\" : \"smart phone\",\n",
      "\t\t\"model\" : \"platina\",\n",
      "\t\t\"screen size\" : 6\n",
      "\t},\n",
      "\t{\n",
      "\t\t\"_id\" : ObjectId(\"6879f446607b1384f7f2d87a\"),\n",
      "\t\t\"type\" : \"smart phone\",\n",
      "\t\t\"model\" : \"k9\",\n",
      "\t\t\"screen size\" : 6\n",
      "\t},\n",
      "\t{\n",
      "\t\t\"_id\" : ObjectId(\"6879f446607b1384f7f2d892\"),\n",
      "\t\t\"type\" : \"smart phone\",\n",
      "\t\t\"model\" : \"pk2\",\n",
      "\t\t\"screen size\" : 6\n",
      "\t}\n",
      "]\n"
     ]
    }
   ],
   "source": [
    "# Show count and up to 10 rows of 6-inch smartphones in the electronics collection\n",
    "import subprocess\n",
    "\n",
    "query = '{ type: \"smart phone\", \"screen size\": 6 }'\n",
    "\n",
    "# Count matching documents\n",
    "count_result = subprocess.run([\n",
    "    'docker', 'exec', 'repository-mongodb-1', 'mongo', 'catalog',\n",
    "    '-u', 'root', '-p', 'root_100411',\n",
    "    '--authenticationDatabase', 'admin',\n",
    "    '--quiet',\n",
    "    '--eval', f'print(\"Count: \" + db.electronics.countDocuments({query}));'\n",
    "], capture_output=True, text=True)\n",
    "\n",
    "print(count_result.stdout.strip())\n",
    "\n",
    "# Show up to 10 matching documents\n",
    "show_result = subprocess.run([\n",
    "    'docker', 'exec', 'repository-mongodb-1', 'mongo', 'catalog',\n",
    "    '-u', 'root', '-p', 'root_100411',\n",
    "    '--authenticationDatabase', 'admin',\n",
    "    '--quiet',\n",
    "    '--eval', f'printjson(db.electronics.find({query}).limit(10).toArray());'\n",
    "], capture_output=True, text=True)\n",
    "\n",
    "print(\"Sample documents:\")\n",
    "print(show_result.stdout.strip())"
   ]
  },
  {
   "cell_type": "markdown",
   "id": "51d959df",
   "metadata": {},
   "source": [
    "### Task 7: Find average screen size of Smartphones"
   ]
  },
  {
   "cell_type": "code",
   "execution_count": 28,
   "id": "373350c6",
   "metadata": {},
   "outputs": [
    {
     "name": "stdout",
     "output_type": "stream",
     "text": [
      "Average screen size of smartphones:\n",
      "Average screen size: 6\n"
     ]
    }
   ],
   "source": [
    "import subprocess\n",
    "\n",
    "# Calculate average screen size of smartphones with authentication\n",
    "result = subprocess.run([\n",
    "    'docker', 'exec', 'repository-mongodb-1', 'mongo', 'catalog',\n",
    "    '-u', 'root', '-p', 'root_100411',\n",
    "    '--authenticationDatabase', 'admin',\n",
    "    '--quiet',\n",
    "    '--eval', 'var avg = db.electronics.aggregate([{ $match: { type: \"smart phone\" } }, { $group: { _id: null, average_screen_size: { $avg: \"$screen size\" } } }]).toArray()[0].average_screen_size; print(\"Average screen size: \" + avg);'\n",
    "], capture_output=True, text=True)\n",
    "print(\"Average screen size of smartphones:\")\n",
    "if result.returncode == 0:\n",
    "    print(result.stdout.strip())\n",
    "else:\n",
    "    print(f\"Error: {result.stderr}\")"
   ]
  },
  {
   "cell_type": "markdown",
   "id": "e2d35631",
   "metadata": {},
   "source": [
    "### Task 8: Export Fields to CSV"
   ]
  },
  {
   "cell_type": "code",
   "execution_count": 31,
   "id": "48aa4e4b",
   "metadata": {},
   "outputs": [
    {
     "name": "stdout",
     "output_type": "stream",
     "text": [
      "Export completed.\n",
      "File copied to Module_2/dataset/electronics.csv\n"
     ]
    }
   ],
   "source": [
    "# Export fields to CSV with authentication\n",
    "import subprocess\n",
    "import os\n",
    "\n",
    "host_output_path = 'dataset/electronics.csv'  # Save to Module_2/dataset\n",
    "\n",
    "export_result = subprocess.run([\n",
    "    'docker', 'exec', 'repository-mongodb-1', 'mongoexport',\n",
    "    '-u', 'root', '-p', 'root_100411', '--authenticationDatabase', 'admin',\n",
    "    '--db', 'catalog', '--collection', 'electronics',\n",
    "    '--out', '/data/db/electronics.csv', '--type', 'csv', '--fields', '_id,type,model'\n",
    "], check=False, capture_output=True, text=True)\n",
    "\n",
    "if export_result.returncode == 0:\n",
    "    print(\"Export completed.\")\n",
    "    # Copy the file back to the host's dataset directory\n",
    "    subprocess.run([\n",
    "        'docker', 'cp',\n",
    "        'repository-mongodb-1:/data/db/electronics.csv',\n",
    "        host_output_path\n",
    "    ], check=True)\n",
    "    print(f\"File copied to Module_2/{host_output_path}\")\n",
    "else:\n",
    "    print(f\"Export failed: {export_result.stderr}\")"
   ]
  }
 ],
 "metadata": {
  "kernelspec": {
   "display_name": "Python 3",
   "language": "python",
   "name": "python3"
  },
  "language_info": {
   "codemirror_mode": {
    "name": "ipython",
    "version": 3
   },
   "file_extension": ".py",
   "mimetype": "text/x-python",
   "name": "python",
   "nbconvert_exporter": "python",
   "pygments_lexer": "ipython3",
   "version": "3.13.5"
  }
 },
 "nbformat": 4,
 "nbformat_minor": 5
}
